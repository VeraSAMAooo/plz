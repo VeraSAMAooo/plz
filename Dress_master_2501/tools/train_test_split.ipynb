{
 "cells": [
  {
   "cell_type": "code",
   "execution_count": 1,
   "metadata": {},
   "outputs": [],
   "source": [
    "import os\n",
    "import json\n",
    "from tqdm import tqdm\n",
    "import numpy as np\n",
    "from sklearn.model_selection import train_test_split\n",
    "from PIL import Image"
   ]
  },
  {
   "cell_type": "code",
   "execution_count": 2,
   "metadata": {},
   "outputs": [],
   "source": [
    "image_root = \"/home/user/development/datasets/process_lower_bbox\"\n",
    "cloth_root = \"/home/user/development/datasets/bottom_lower_crop\"\n",
    "type_dict_path = \"/home/user/development/datasets/bottom_lower_crop/bottom_train_supple_b0_total_data_type_pid_map.json\"\n",
    "output_root = \"/home/user/development/datasets/bottom_lower_crop/demo\"\n",
    "output_name = \"skirts.txt\""
   ]
  },
  {
   "cell_type": "code",
   "execution_count": 4,
   "metadata": {},
   "outputs": [
    {
     "name": "stdout",
     "output_type": "stream",
     "text": [
      "123 models in total\n",
      "25328 clothes in total\n"
     ]
    },
    {
     "name": "stderr",
     "output_type": "stream",
     "text": [
      "100%|██████████| 123/123 [00:00<00:00, 698.29it/s]"
     ]
    },
    {
     "name": "stdout",
     "output_type": "stream",
     "text": [
      "113 clean models in total\n",
      "22551 valid clothes in total\n"
     ]
    },
    {
     "name": "stderr",
     "output_type": "stream",
     "text": [
      "\n"
     ]
    }
   ],
   "source": [
    "image_list = os.listdir(os.path.join(image_root,\"image\"))\n",
    "print(f\"{len(image_list)} models in total\")\n",
    "cloth_list = os.listdir(os.path.join(cloth_root,\"image\"))\n",
    "print(f\"{len(cloth_list)} clothes in total\")\n",
    "\"\"\" filter models with clean parse maps \"\"\"\n",
    "dirty_list = []\n",
    "for img in tqdm(image_list):\n",
    "    img = img.replace(\"jpg\",\"png\")\n",
    "    img_array = np.asarray(Image.open(os.path.join(image_root,\"image-parse-agnostic-v3.2\",img)))\n",
    "    if np.sum(img_array == 5) + np.sum(img_array == 6) > 100:\n",
    "        dirty_list.append(img)\n",
    "dirty_list = [file.strip().replace(\"png\",\"jpg\") for file in dirty_list]\n",
    "image_list = [file for file in image_list if file not in dirty_list]\n",
    "print(f\"{len(image_list)} clean models in total\")\n",
    "\"\"\" filter clothes without unidentical types \"\"\"\n",
    "with open(type_dict_path,\"r\") as ff:\n",
    "    type_dict = json.load(ff)\n",
    "valid_set = set(type_dict[\"Skirts\"] + type_dict[\"Trousers\"])\n",
    "cloth_list = [file for file in cloth_list if int(file.split(\".\")[0]) in valid_set]\n",
    "print(f\"{len(cloth_list)} valid clothes in total\")"
   ]
  },
  {
   "cell_type": "code",
   "execution_count": 7,
   "metadata": {},
   "outputs": [
    {
     "name": "stdout",
     "output_type": "stream",
     "text": [
      "Midi Skirt: 3392\n",
      "Jeans: 2936\n",
      "A-line Skirt: 5249\n",
      "Maxi Skirt: 2365\n",
      "Straight Skirt: 2063\n",
      "Mini Skirt: 3339\n",
      "Pleated Skirt: 656\n",
      "Pants: 4646\n",
      "Sweatpants: 238\n",
      "Leather Pants: 870\n",
      "Skinny Pants: 436\n",
      "Wide Leg Pants: 1566\n",
      "Cropped Jeans: 1055\n",
      "Skinny Jeans: 403\n",
      "Bodycon Skirt: 1497\n",
      "Shorts: 2502\n",
      "Straight Jeans: 750\n",
      "Leggings: 429\n",
      "Flared Pants: 675\n",
      "Cropped Pants: 1267\n",
      "Straight Pants: 620\n",
      "Flared Jeans: 476\n",
      "Denim Skirt: 468\n",
      "Wide Leg Jeans: 1095\n",
      "Leather Skirt: 800\n",
      "Denim Dungarees: 5\n",
      "Shirt: 1\n",
      "Skirts: 9328\n",
      "Trousers: 13223\n"
     ]
    }
   ],
   "source": [
    "for key, value in type_dict.items():\n",
    "    print(f\"{key}: {len(value)}\")"
   ]
  },
  {
   "cell_type": "code",
   "execution_count": 10,
   "metadata": {},
   "outputs": [],
   "source": [
    "import re\n",
    "excluded_types = set([\"Denim Dungarees\", \"Shirt\", \"Skirts\", \"Trousers\"])\n",
    "skirt_types = [cloth_type for cloth_type in type_dict.keys() if re.match(r\"(.*)Skirt\", cloth_type) and cloth_type not in excluded_types]\n",
    "trouser_types = [cloth_type for cloth_type in type_dict.keys() if not re.match(r\"(.*)Skirt\", cloth_type) and cloth_type not in excluded_types]"
   ]
  },
  {
   "cell_type": "code",
   "execution_count": 13,
   "metadata": {},
   "outputs": [],
   "source": [
    "with open(os.path.join(output_root,\"skirt_types.txt\"),\"a\") as ff:\n",
    "    for skirt_type in skirt_types:\n",
    "        line = skirt_type + \"\\n\"\n",
    "        ff.write(line)\n",
    "ff.close()\n",
    "with open(os.path.join(output_root,\"trouser_types.txt\"),\"a\") as ff:\n",
    "    for trouser_type in trouser_types:\n",
    "        line = trouser_type + \"\\n\"\n",
    "        ff.write(line)\n",
    "ff.close()"
   ]
  },
  {
   "cell_type": "code",
   "execution_count": 9,
   "metadata": {},
   "outputs": [],
   "source": [
    "if not os.path.exists(output_root):\n",
    "    os.makedirs(output_root)\n",
    "for key, value in type_dict.items():\n",
    "    if key in excluded_types:\n",
    "        continue\n",
    "    models = np.random.choice(image_list,10)\n",
    "    clothes = np.random.choice(type_dict[key],10)\n",
    "    clothes = [str(num)+\".jpg\" for num in clothes]\n",
    "    file_path = os.path.join(output_root, key+\".txt\")\n",
    "    with open(file_path,\"a\") as ff:\n",
    "        for model in models:\n",
    "            for cloth in clothes:\n",
    "                line = f\"{model} {cloth}\\n\"\n",
    "                ff.write(line)\n",
    "ff.close()"
   ]
  },
  {
   "cell_type": "code",
   "execution_count": 6,
   "metadata": {},
   "outputs": [],
   "source": [
    "\"\"\" Generate lists for skirts and trousers respectively \"\"\"\n",
    "\n",
    "# files = [file for file in cloth_list if int(file.strip().split(\".\")[0]) in type_dict[\"Skirts\"]]\n",
    "# with open(os.path.join(output_root,\"skirts.txt\"),\"a\") as ff:\n",
    "#     for file in files:\n",
    "#         line = file + \"\\n\"\n",
    "#         ff.write(line)\n",
    "# files = [file for file in cloth_list if int(file.strip().split(\".\")[0]) in type_dict[\"Trousers\"]]\n",
    "# with open(os.path.join(output_root,\"trousers.txt\"),\"a\") as ff:\n",
    "#     for file in files:\n",
    "#         line = file + \"\\n\"\n",
    "#         ff.write(line)"
   ]
  },
  {
   "cell_type": "code",
   "execution_count": 11,
   "metadata": {},
   "outputs": [],
   "source": []
  },
  {
   "cell_type": "code",
   "execution_count": 14,
   "metadata": {},
   "outputs": [
    {
     "data": {
      "text/plain": [
       "22551"
      ]
     },
     "execution_count": 14,
     "metadata": {},
     "output_type": "execute_result"
    }
   ],
   "source": []
  },
  {
   "cell_type": "code",
   "execution_count": null,
   "metadata": {},
   "outputs": [],
   "source": []
  }
 ],
 "metadata": {
  "kernelspec": {
   "display_name": "hr-viton",
   "language": "python",
   "name": "python3"
  },
  "language_info": {
   "codemirror_mode": {
    "name": "ipython",
    "version": 3
   },
   "file_extension": ".py",
   "mimetype": "text/x-python",
   "name": "python",
   "nbconvert_exporter": "python",
   "pygments_lexer": "ipython3",
   "version": "3.8.15"
  },
  "orig_nbformat": 4,
  "vscode": {
   "interpreter": {
    "hash": "00a6082cab7d4666ca1dd7f3ece441539f3a1412c9877619a9be5fcb4203fd64"
   }
  }
 },
 "nbformat": 4,
 "nbformat_minor": 2
}
