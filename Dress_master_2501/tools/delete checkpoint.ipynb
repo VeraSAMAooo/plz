{
 "cells": [
  {
   "cell_type": "code",
   "execution_count": 7,
   "metadata": {},
   "outputs": [],
   "source": [
    "import os\n",
    "ckpt_dir = \"../checkpoint/v3/tocg_D_skirt\"\n",
    "ckpt_list = os.listdir(ckpt_dir)\n",
    "for ckpt in ckpt_list:\n",
    "    if int(ckpt.split('.')[0]) % 10000 != 0 or int(ckpt.split('.')[0]) == 0:\n",
    "        os.remove(os.path.join(ckpt_dir,ckpt))"
   ]
  }
 ],
 "metadata": {
  "kernelspec": {
   "display_name": "hr-viton",
   "language": "python",
   "name": "python3"
  },
  "language_info": {
   "codemirror_mode": {
    "name": "ipython",
    "version": 3
   },
   "file_extension": ".py",
   "mimetype": "text/x-python",
   "name": "python",
   "nbconvert_exporter": "python",
   "pygments_lexer": "ipython3",
   "version": "3.8.15"
  },
  "orig_nbformat": 4,
  "vscode": {
   "interpreter": {
    "hash": "00a6082cab7d4666ca1dd7f3ece441539f3a1412c9877619a9be5fcb4203fd64"
   }
  }
 },
 "nbformat": 4,
 "nbformat_minor": 2
}
