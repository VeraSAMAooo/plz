{
 "cells": [
  {
   "cell_type": "code",
   "execution_count": 1,
   "metadata": {},
   "outputs": [
    {
     "name": "stderr",
     "output_type": "stream",
     "text": [
      "/home/user/anaconda3/envs/hr-viton/lib/python3.8/site-packages/tqdm/auto.py:22: TqdmWarning: IProgress not found. Please update jupyter and ipywidgets. See https://ipywidgets.readthedocs.io/en/stable/user_install.html\n",
      "  from .autonotebook import tqdm as notebook_tqdm\n"
     ]
    }
   ],
   "source": [
    "import torch\n",
    "ckpt_84000 = torch.load(\"checkpoint/generator/84000.pth\")"
   ]
  },
  {
   "cell_type": "code",
   "execution_count": 3,
   "metadata": {},
   "outputs": [
    {
     "data": {
      "text/plain": [
       "odict_keys(['scale0_layer0.0.weight', 'scale0_layer0.0.bias', 'scale0_layer1.0.weight', 'scale0_layer1.0.bias', 'scale0_layer2.0.weight', 'scale0_layer2.0.bias', 'scale0_layer3.0.weight', 'scale0_layer3.0.bias', 'scale0_layer4.0.weight', 'scale0_layer4.0.bias', 'scale1_layer0.0.weight', 'scale1_layer0.0.bias', 'scale1_layer1.0.weight', 'scale1_layer1.0.bias', 'scale1_layer2.0.weight', 'scale1_layer2.0.bias', 'scale1_layer3.0.weight', 'scale1_layer3.0.bias', 'scale1_layer4.0.weight', 'scale1_layer4.0.bias'])"
      ]
     },
     "execution_count": 3,
     "metadata": {},
     "output_type": "execute_result"
    }
   ],
   "source": [
    "ckpt_84000.keys()"
   ]
  },
  {
   "cell_type": "code",
   "execution_count": 5,
   "metadata": {},
   "outputs": [
    {
     "data": {
      "text/plain": [
       "odict_keys(['conv_0.weight', 'conv_0.bias', 'conv_1.weight', 'conv_1.bias', 'conv_2.weight', 'conv_2.bias', 'conv_3.weight', 'conv_3.bias', 'conv_4.weight', 'conv_4.bias', 'conv_5.weight', 'conv_5.bias', 'conv_6.weight', 'conv_6.bias', 'conv_7.weight', 'conv_7.bias', 'head_0.conv_0.bias', 'head_0.conv_0.weight_orig', 'head_0.conv_0.weight_u', 'head_0.conv_0.weight_v', 'head_0.conv_1.bias', 'head_0.conv_1.weight_orig', 'head_0.conv_1.weight_u', 'head_0.conv_1.weight_v', 'head_0.norm_0.noise_scale', 'head_0.norm_0.conv_shared.0.weight', 'head_0.norm_0.conv_shared.0.bias', 'head_0.norm_0.conv_gamma.weight', 'head_0.norm_0.conv_gamma.bias', 'head_0.norm_0.conv_beta.weight', 'head_0.norm_0.conv_beta.bias', 'head_0.norm_1.noise_scale', 'head_0.norm_1.conv_shared.0.weight', 'head_0.norm_1.conv_shared.0.bias', 'head_0.norm_1.conv_gamma.weight', 'head_0.norm_1.conv_gamma.bias', 'head_0.norm_1.conv_beta.weight', 'head_0.norm_1.conv_beta.bias', 'G_middle_0.conv_0.bias', 'G_middle_0.conv_0.weight_orig', 'G_middle_0.conv_0.weight_u', 'G_middle_0.conv_0.weight_v', 'G_middle_0.conv_1.bias', 'G_middle_0.conv_1.weight_orig', 'G_middle_0.conv_1.weight_u', 'G_middle_0.conv_1.weight_v', 'G_middle_0.conv_s.weight_orig', 'G_middle_0.conv_s.weight_u', 'G_middle_0.conv_s.weight_v', 'G_middle_0.norm_0.noise_scale', 'G_middle_0.norm_0.conv_shared.0.weight', 'G_middle_0.norm_0.conv_shared.0.bias', 'G_middle_0.norm_0.conv_gamma.weight', 'G_middle_0.norm_0.conv_gamma.bias', 'G_middle_0.norm_0.conv_beta.weight', 'G_middle_0.norm_0.conv_beta.bias', 'G_middle_0.norm_1.noise_scale', 'G_middle_0.norm_1.conv_shared.0.weight', 'G_middle_0.norm_1.conv_shared.0.bias', 'G_middle_0.norm_1.conv_gamma.weight', 'G_middle_0.norm_1.conv_gamma.bias', 'G_middle_0.norm_1.conv_beta.weight', 'G_middle_0.norm_1.conv_beta.bias', 'G_middle_0.norm_s.noise_scale', 'G_middle_0.norm_s.conv_shared.0.weight', 'G_middle_0.norm_s.conv_shared.0.bias', 'G_middle_0.norm_s.conv_gamma.weight', 'G_middle_0.norm_s.conv_gamma.bias', 'G_middle_0.norm_s.conv_beta.weight', 'G_middle_0.norm_s.conv_beta.bias', 'G_middle_1.conv_0.bias', 'G_middle_1.conv_0.weight_orig', 'G_middle_1.conv_0.weight_u', 'G_middle_1.conv_0.weight_v', 'G_middle_1.conv_1.bias', 'G_middle_1.conv_1.weight_orig', 'G_middle_1.conv_1.weight_u', 'G_middle_1.conv_1.weight_v', 'G_middle_1.conv_s.weight_orig', 'G_middle_1.conv_s.weight_u', 'G_middle_1.conv_s.weight_v', 'G_middle_1.norm_0.noise_scale', 'G_middle_1.norm_0.conv_shared.0.weight', 'G_middle_1.norm_0.conv_shared.0.bias', 'G_middle_1.norm_0.conv_gamma.weight', 'G_middle_1.norm_0.conv_gamma.bias', 'G_middle_1.norm_0.conv_beta.weight', 'G_middle_1.norm_0.conv_beta.bias', 'G_middle_1.norm_1.noise_scale', 'G_middle_1.norm_1.conv_shared.0.weight', 'G_middle_1.norm_1.conv_shared.0.bias', 'G_middle_1.norm_1.conv_gamma.weight', 'G_middle_1.norm_1.conv_gamma.bias', 'G_middle_1.norm_1.conv_beta.weight', 'G_middle_1.norm_1.conv_beta.bias', 'G_middle_1.norm_s.noise_scale', 'G_middle_1.norm_s.conv_shared.0.weight', 'G_middle_1.norm_s.conv_shared.0.bias', 'G_middle_1.norm_s.conv_gamma.weight', 'G_middle_1.norm_s.conv_gamma.bias', 'G_middle_1.norm_s.conv_beta.weight', 'G_middle_1.norm_s.conv_beta.bias', 'up_0.conv_0.bias', 'up_0.conv_0.weight_orig', 'up_0.conv_0.weight_u', 'up_0.conv_0.weight_v', 'up_0.conv_1.bias', 'up_0.conv_1.weight_orig', 'up_0.conv_1.weight_u', 'up_0.conv_1.weight_v', 'up_0.conv_s.weight_orig', 'up_0.conv_s.weight_u', 'up_0.conv_s.weight_v', 'up_0.norm_0.noise_scale', 'up_0.norm_0.conv_shared.0.weight', 'up_0.norm_0.conv_shared.0.bias', 'up_0.norm_0.conv_gamma.weight', 'up_0.norm_0.conv_gamma.bias', 'up_0.norm_0.conv_beta.weight', 'up_0.norm_0.conv_beta.bias', 'up_0.norm_1.noise_scale', 'up_0.norm_1.conv_shared.0.weight', 'up_0.norm_1.conv_shared.0.bias', 'up_0.norm_1.conv_gamma.weight', 'up_0.norm_1.conv_gamma.bias', 'up_0.norm_1.conv_beta.weight', 'up_0.norm_1.conv_beta.bias', 'up_0.norm_s.noise_scale', 'up_0.norm_s.conv_shared.0.weight', 'up_0.norm_s.conv_shared.0.bias', 'up_0.norm_s.conv_gamma.weight', 'up_0.norm_s.conv_gamma.bias', 'up_0.norm_s.conv_beta.weight', 'up_0.norm_s.conv_beta.bias', 'up_1.conv_0.bias', 'up_1.conv_0.weight_orig', 'up_1.conv_0.weight_u', 'up_1.conv_0.weight_v', 'up_1.conv_1.bias', 'up_1.conv_1.weight_orig', 'up_1.conv_1.weight_u', 'up_1.conv_1.weight_v', 'up_1.conv_s.weight_orig', 'up_1.conv_s.weight_u', 'up_1.conv_s.weight_v', 'up_1.norm_0.noise_scale', 'up_1.norm_0.conv_shared.0.weight', 'up_1.norm_0.conv_shared.0.bias', 'up_1.norm_0.conv_gamma.weight', 'up_1.norm_0.conv_gamma.bias', 'up_1.norm_0.conv_beta.weight', 'up_1.norm_0.conv_beta.bias', 'up_1.norm_1.noise_scale', 'up_1.norm_1.conv_shared.0.weight', 'up_1.norm_1.conv_shared.0.bias', 'up_1.norm_1.conv_gamma.weight', 'up_1.norm_1.conv_gamma.bias', 'up_1.norm_1.conv_beta.weight', 'up_1.norm_1.conv_beta.bias', 'up_1.norm_s.noise_scale', 'up_1.norm_s.conv_shared.0.weight', 'up_1.norm_s.conv_shared.0.bias', 'up_1.norm_s.conv_gamma.weight', 'up_1.norm_s.conv_gamma.bias', 'up_1.norm_s.conv_beta.weight', 'up_1.norm_s.conv_beta.bias', 'up_2.conv_0.bias', 'up_2.conv_0.weight_orig', 'up_2.conv_0.weight_u', 'up_2.conv_0.weight_v', 'up_2.conv_1.bias', 'up_2.conv_1.weight_orig', 'up_2.conv_1.weight_u', 'up_2.conv_1.weight_v', 'up_2.conv_s.weight_orig', 'up_2.conv_s.weight_u', 'up_2.conv_s.weight_v', 'up_2.norm_0.noise_scale', 'up_2.norm_0.conv_shared.0.weight', 'up_2.norm_0.conv_shared.0.bias', 'up_2.norm_0.conv_gamma.weight', 'up_2.norm_0.conv_gamma.bias', 'up_2.norm_0.conv_beta.weight', 'up_2.norm_0.conv_beta.bias', 'up_2.norm_1.noise_scale', 'up_2.norm_1.conv_shared.0.weight', 'up_2.norm_1.conv_shared.0.bias', 'up_2.norm_1.conv_gamma.weight', 'up_2.norm_1.conv_gamma.bias', 'up_2.norm_1.conv_beta.weight', 'up_2.norm_1.conv_beta.bias', 'up_2.norm_s.noise_scale', 'up_2.norm_s.conv_shared.0.weight', 'up_2.norm_s.conv_shared.0.bias', 'up_2.norm_s.conv_gamma.weight', 'up_2.norm_s.conv_gamma.bias', 'up_2.norm_s.conv_beta.weight', 'up_2.norm_s.conv_beta.bias', 'up_3.conv_0.bias', 'up_3.conv_0.weight_orig', 'up_3.conv_0.weight_u', 'up_3.conv_0.weight_v', 'up_3.conv_1.bias', 'up_3.conv_1.weight_orig', 'up_3.conv_1.weight_u', 'up_3.conv_1.weight_v', 'up_3.conv_s.weight_orig', 'up_3.conv_s.weight_u', 'up_3.conv_s.weight_v', 'up_3.norm_0.noise_scale', 'up_3.norm_0.conv_shared.0.weight', 'up_3.norm_0.conv_shared.0.bias', 'up_3.norm_0.conv_gamma.weight', 'up_3.norm_0.conv_gamma.bias', 'up_3.norm_0.conv_beta.weight', 'up_3.norm_0.conv_beta.bias', 'up_3.norm_1.noise_scale', 'up_3.norm_1.conv_shared.0.weight', 'up_3.norm_1.conv_shared.0.bias', 'up_3.norm_1.conv_gamma.weight', 'up_3.norm_1.conv_gamma.bias', 'up_3.norm_1.conv_beta.weight', 'up_3.norm_1.conv_beta.bias', 'up_3.norm_s.noise_scale', 'up_3.norm_s.conv_shared.0.weight', 'up_3.norm_s.conv_shared.0.bias', 'up_3.norm_s.conv_gamma.weight', 'up_3.norm_s.conv_gamma.bias', 'up_3.norm_s.conv_beta.weight', 'up_3.norm_s.conv_beta.bias', 'up_4.conv_0.bias', 'up_4.conv_0.weight_orig', 'up_4.conv_0.weight_u', 'up_4.conv_0.weight_v', 'up_4.conv_1.bias', 'up_4.conv_1.weight_orig', 'up_4.conv_1.weight_u', 'up_4.conv_1.weight_v', 'up_4.conv_s.weight_orig', 'up_4.conv_s.weight_u', 'up_4.conv_s.weight_v', 'up_4.norm_0.noise_scale', 'up_4.norm_0.conv_shared.0.weight', 'up_4.norm_0.conv_shared.0.bias', 'up_4.norm_0.conv_gamma.weight', 'up_4.norm_0.conv_gamma.bias', 'up_4.norm_0.conv_beta.weight', 'up_4.norm_0.conv_beta.bias', 'up_4.norm_1.noise_scale', 'up_4.norm_1.conv_shared.0.weight', 'up_4.norm_1.conv_shared.0.bias', 'up_4.norm_1.conv_gamma.weight', 'up_4.norm_1.conv_gamma.bias', 'up_4.norm_1.conv_beta.weight', 'up_4.norm_1.conv_beta.bias', 'up_4.norm_s.noise_scale', 'up_4.norm_s.conv_shared.0.weight', 'up_4.norm_s.conv_shared.0.bias', 'up_4.norm_s.conv_gamma.weight', 'up_4.norm_s.conv_gamma.bias', 'up_4.norm_s.conv_beta.weight', 'up_4.norm_s.conv_beta.bias', 'conv_img.weight', 'conv_img.bias'])"
      ]
     },
     "execution_count": 5,
     "metadata": {},
     "output_type": "execute_result"
    }
   ],
   "source": [
    "ckpt_79000 = torch.load(\"checkpoint/generator/79000.pth\")\n",
    "ckpt_79000.keys()"
   ]
  },
  {
   "cell_type": "code",
   "execution_count": null,
   "metadata": {},
   "outputs": [],
   "source": []
  }
 ],
 "metadata": {
  "kernelspec": {
   "display_name": "hr-viton",
   "language": "python",
   "name": "python3"
  },
  "language_info": {
   "codemirror_mode": {
    "name": "ipython",
    "version": 3
   },
   "file_extension": ".py",
   "mimetype": "text/x-python",
   "name": "python",
   "nbconvert_exporter": "python",
   "pygments_lexer": "ipython3",
   "version": "3.8.15"
  },
  "orig_nbformat": 4,
  "vscode": {
   "interpreter": {
    "hash": "00a6082cab7d4666ca1dd7f3ece441539f3a1412c9877619a9be5fcb4203fd64"
   }
  }
 },
 "nbformat": 4,
 "nbformat_minor": 2
}
